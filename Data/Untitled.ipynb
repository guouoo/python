{
 "cells": [
  {
   "cell_type": "code",
   "execution_count": 2,
   "metadata": {
    "collapsed": false
   },
   "outputs": [
    {
     "name": "stdout",
     "output_type": "stream",
     "text": [
      "513050 : Records from '1900-01-01' to '2017-05-22' are inserted into table 'his_etf'\n",
      "########################################\n",
      "his_etf is updated to latest status.\n",
      "########################################\n"
     ]
    }
   ],
   "source": [
    "'''\n",
    "Created on Nov 23, 2015\n",
    "\n",
    "@author: tguo\n",
    "'''\n",
    "# For ETF/LOF/ClassFund\n",
    "\n",
    "# coding=UTF-8\n",
    "import urllib.request\n",
    "import time\n",
    "import datetime\n",
    "import re\n",
    "import pymysql \n",
    "from bs4 import BeautifulSoup\n",
    "import logging\n",
    "\n",
    "logging.basicConfig(\n",
    "    level=logging.DEBUG,\n",
    "    # format=\"[%(asctime)s] %(name)s:%(levelname)s: %(message)s\"\n",
    "    format=\"%(levelname)s: %(message)s\"\n",
    ")\n",
    "\n",
    "def connDB(): #连接数据库函数\n",
    "    conn=pymysql.connect(host='localhost',user='root',passwd='66196619',db='data',charset='utf8')\n",
    "    cur=conn.cursor();\n",
    "    return (conn,cur);\n",
    "\n",
    "def exeUpdate(cur,sql):#更新语句，可执行update,insert语句\n",
    "    sta=cur.execute(sql);\n",
    "    return(sta);\n",
    "\n",
    "def exeDelete(cur,IDs): #删除语句，可批量删除\n",
    "    for eachID in IDs.split(' '):\n",
    "        sta=cur.execute('delete from relationTriple where tID =%d'% int(eachID));\n",
    "    return (sta);\n",
    "\n",
    "def exeQuery(cur,sql):#查询语句\n",
    "    cur.execute(sql);\n",
    "    return (cur);\n",
    "\n",
    "def connClose(conn,cur):#关闭所有连接\n",
    "    cur.close();\n",
    "    conn.commit();\n",
    "    conn.close();\n",
    "    \n",
    "\n",
    "\n",
    "def LoadHistory(list):\n",
    "    \n",
    "    conn,cur=connDB() \n",
    "    sdate= '1900-01-01';\n",
    "    edate= time.strftime('%Y-%m-%d',time.localtime(time.time()));\n",
    "    \n",
    "    Historylist = open(list, mode='r', encoding=None, errors=None, newline=None, closefd=True, opener=None)\n",
    "    symbolList=Historylist.readlines()\n",
    "\n",
    "    # dateinfo = exeQuery(cur,'select symbol,max(Date) FROM tradeinfo.' + list +' group by symbol order by symbol').fetchall()\n",
    "    # maxdate=dict(dateinfo)\n",
    "    # symbolList=tuple(maxdate)\n",
    "\n",
    "    for k in range(0,len(symbolList)):\n",
    "#       sdate = str(maxdate[symbolList[k]]+datetime.timedelta(days = 1))\n",
    "        if sdate >= edate:\n",
    "            continue\n",
    "        symbol =symbolList[k].strip()\n",
    "\n",
    "        if symbolList[k][0] != '5':\n",
    "            url = 'http://biz.finance.sina.com.cn/stock/flash_hq/kline_data.php?symbol=sz'+symbol+'&begin_date='+sdate+'&end_date='+edate\n",
    "        else:\n",
    "            url = 'http://biz.finance.sina.com.cn/stock/flash_hq/kline_data.php?symbol=sh'+symbol+'&begin_date='+sdate+'&end_date='+edate\n",
    "\n",
    "        # http://biz.finance.sina.com.cn/stock/flash_hq/kline_data.php?symbol=sz159901&begin_date=20060315&end_date=20161015\n",
    "        Temp = urllib.request.urlopen(url).read()\n",
    "\n",
    "        tag = BeautifulSoup(Temp,\"xml\").findAll(\"content\")\n",
    "        for j in range(0,len(tag)):\n",
    "            tradeinfo=str(tag[j]).replace('<content bl=\"\" c=\"',',\\'').replace('\"/>','\\')')\n",
    "            tradedata='(\\''+symbol+ '\\''+re.sub(r'\"..=\"','\\',\\'',tradeinfo)\n",
    "            # logging.info(tradedata)\n",
    "            istsql = 'insert into '+ list +' (symbol,closeprice,date,highprice,lowprice,openprice,volume) values ' + tradedata +';'\n",
    "            # logging.info(istsql)\n",
    "            try:\n",
    "                conn.cursor().execute(istsql)\n",
    "#                 print(istsql)\n",
    "            except Exception as e:\n",
    "                print(e)\n",
    "                print(istsql)\n",
    "        print(symbol + ' : Records from \\'' + sdate + '\\' to \\'' + edate + '\\' are inserted into table \\'' + list + '\\'')\n",
    "\n",
    "    Historylist.close()\n",
    "    print('''########################################''' +'\\n' + list + ' is updated to latest status.' +'\\n' + '''########################################''')\n",
    "    connClose(conn, cur)\n",
    "\n",
    "LoadHistory('his_etf')"
   ]
  },
  {
   "cell_type": "code",
   "execution_count": null,
   "metadata": {
    "collapsed": true
   },
   "outputs": [],
   "source": []
  }
 ],
 "metadata": {
  "kernelspec": {
   "display_name": "Python 3",
   "language": "python",
   "name": "python3"
  },
  "language_info": {
   "codemirror_mode": {
    "name": "ipython",
    "version": 3
   },
   "file_extension": ".py",
   "mimetype": "text/x-python",
   "name": "python",
   "nbconvert_exporter": "python",
   "pygments_lexer": "ipython3",
   "version": "3.4.4"
  }
 },
 "nbformat": 4,
 "nbformat_minor": 2
}
